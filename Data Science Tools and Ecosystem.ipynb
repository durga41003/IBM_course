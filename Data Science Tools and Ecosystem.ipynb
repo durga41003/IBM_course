{
 "cells": [
  {
   "cell_type": "markdown",
   "id": "44ac82c4",
   "metadata": {},
   "source": [
    "# Data Science Tools and Ecosystem"
   ]
  },
  {
   "cell_type": "markdown",
   "id": "bdab6722",
   "metadata": {},
   "source": [
    "In this notebook, Data Science Tools and Ecosystem are summarized."
   ]
  },
  {
   "cell_type": "markdown",
   "id": "49f07734",
   "metadata": {},
   "source": [
    "Some of the popular languages that Data Scientists use are:\n",
    "\n",
    "1. Python: Widely used for data analysis, machine learning, and scientific computing due to its extensive libraries like Pandas, NumPy, and Scikit-Learn.\n",
    "2. R: Known for statistical computing and graphics, R offers a wide range of packages for data manipulation, visualization, and statistical analysis.\n",
    "3. SQL: Primarily used for managing and querying relational databases, essential for extracting, manipulating, and analyzing structured data.\n",
    "4. Julia: A high-level, high-performance programming language for technical computing, gaining traction in scientific computing and data analysis."
   ]
  },
  {
   "cell_type": "markdown",
   "id": "150add0c",
   "metadata": {},
   "source": [
    "Some of the commonly used libraries used by Data Scientists include:\n",
    "\n",
    "1. Pandas: Provides powerful data structures and data analysis tools, ideal for data manipulation and analysis.\n",
    "2. NumPy: Offers support for large, multi-dimensional arrays and matrices, along with mathematical functions to operate on these arrays.\n",
    "3. Matplotlib: A versatile plotting library for creating static, interactive, and publication-quality visualizations.\n",
    "4. Seaborn: Built on top of Matplotlib, Seaborn provides a higher-level interface for statistical data visualization.\n",
    "5. Scikit-learn: A comprehensive machine learning library with various algorithms for classification, regression, clustering, and more.\n",
    "6. TensorFlow and PyTorch: Deep learning frameworks used for building and training neural networks.\n",
    "7. SciPy: A collection of mathematical algorithms and functions built on NumPy, useful for optimization, integration, interpolation, and more.\n",
    "8. Statsmodels: Focuses on statistical modeling and hypothesis testing for data exploration.\n",
    "9. NLTK (Natural Language Toolkit): A toolkit for natural language processing tasks like tokenization, stemming, tagging, parsing, and more.\n",
    "10. XGBoost and LightGBM: Popular libraries for gradient boosting, often used in machine learning competitions and predictive modeling.\n",
    "11. Keras: A high-level neural networks API, often used for quick experimentation with deep learning models.\n",
    "12. Plotly: Known for creating interactive, web-based visualizations and dashboards.\n",
    "13. Caret: A comprehensive package in R used for building predictive models, particularly in machine learning."
   ]
  },
  {
   "cell_type": "markdown",
   "id": "66f455af",
   "metadata": {},
   "source": [
    "Data Science Tools\n",
    "\n",
    "1. Jupyter Notebook: Interactive environment for data analysis and visualization\n",
    "2. RStudio: Integrated development environment (IDE) for R programming\n",
    "3. Spyder: Open-source IDE for scientific Python development\n",
    "4. Apache Spark: Distributed computing system for big data processing\n",
    "5. Tableau: Data visualization tool with interactive dashboards\n",
    "6. KNIME: Open-source data analytics platform for workflows\n",
    "7. SAS: Statistical analysis software suite\n",
    "8. Excel: Spreadsheet software with basic data analysis capabilities\n",
    "9. RapidMiner: Data science platform for analytics and predictive modeling\n",
    "10. Databricks: Unified analytics platform based on Apache Spark\n",
    "11. Power BI: Business analytics tool for data visualization and insights\n",
    "12. Orange: Open-source data visualization and analysis tool\n",
    "13. DataRobot: Automated machine learning platform\n",
    "14. Alteryx: Data blending and advanced analytics tool"
   ]
  },
  {
   "cell_type": "markdown",
   "id": "76a2596a",
   "metadata": {},
   "source": [
    "Below are a few examples of evaluating arithmetic expressions in Python:\n",
    "a=20\n",
    "b=10\n",
    "c=3\n",
    "sum=a+b\n",
    "dif=a-b\n",
    "mul=a*b\n",
    "div=a/b\n",
    "fdiv=b//c"
   ]
  },
  {
   "cell_type": "code",
   "execution_count": 2,
   "id": "2f71f24f",
   "metadata": {},
   "outputs": [
    {
     "name": "stdout",
     "output_type": "stream",
     "text": [
      "205\n"
     ]
    }
   ],
   "source": [
    "a=10\n",
    "b=20\n",
    "c=5\n",
    "print((a*b)+c) # This a simple arithmetic expression to mutiply then add integers"
   ]
  },
  {
   "cell_type": "code",
   "execution_count": 3,
   "id": "d1d0bc65",
   "metadata": {},
   "outputs": [
    {
     "name": "stdout",
     "output_type": "stream",
     "text": [
      "3.3333333333333335\n"
     ]
    }
   ],
   "source": [
    "min= 200\n",
    "print(min/60) #This will convert 200 minutes to hours by diving by 60"
   ]
  },
  {
   "cell_type": "markdown",
   "id": "e20aacf9",
   "metadata": {},
   "source": [
    "Objectives\n",
    "\n",
    "1. Some of the popular languages that Data Scientists use are: Python, R, SQL, and Julia\n",
    "2. Data Science Tools: Jupyter Notebook, RStudio, Spyder, Apache Spark, Tableau, KNIME, SAS, Excel, RapidMiner, Databricks, Power BI, Orange, DataRobot, Altery.\n",
    "3. Libraries used by Data Scientists: Pandas, Matplotlib, Seaborn, Numpy, Scikit-learn, Scipy, TenserFlow, PyTorch, Keras, NLTK,.."
   ]
  },
  {
   "cell_type": "markdown",
   "id": "2e0b6d52",
   "metadata": {},
   "source": [
    "Author\n",
    "\n",
    "1. Lakshmi Holla\n",
    "2. Niveditha Pandith"
   ]
  },
  {
   "cell_type": "code",
   "execution_count": null,
   "id": "b81ce23b",
   "metadata": {},
   "outputs": [],
   "source": []
  }
 ],
 "metadata": {
  "kernelspec": {
   "display_name": "Python 3 (ipykernel)",
   "language": "python",
   "name": "python3"
  },
  "language_info": {
   "codemirror_mode": {
    "name": "ipython",
    "version": 3
   },
   "file_extension": ".py",
   "mimetype": "text/x-python",
   "name": "python",
   "nbconvert_exporter": "python",
   "pygments_lexer": "ipython3",
   "version": "3.9.13"
  }
 },
 "nbformat": 4,
 "nbformat_minor": 5
}
